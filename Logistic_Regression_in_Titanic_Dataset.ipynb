{
 "cells": [
  {
   "cell_type": "code",
   "execution_count": 1,
   "id": "360b79a6",
   "metadata": {},
   "outputs": [],
   "source": [
    "# Import the required libraries\n",
    "import numpy as np\n",
    "import pandas as pd\n",
    "import warnings\n",
    "warnings.filterwarnings(\"ignore\")"
   ]
  },
  {
   "cell_type": "code",
   "execution_count": 2,
   "id": "5d2fb324",
   "metadata": {},
   "outputs": [],
   "source": [
    "# Import the dataset\n",
    "train = pd.read_csv(r'D:\\MLLearning\\classML\\Titanic\\train.csv')\n",
    "test = pd.read_csv(r'D:\\MLLearning\\classML\\Titanic\\test.csv')"
   ]
  },
  {
   "cell_type": "markdown",
   "id": "b003ecb7",
   "metadata": {},
   "source": [
    "* Feature Engineering\n",
    "* Missing Values\n",
    "* One Hot Encoding..."
   ]
  },
  {
   "cell_type": "code",
   "execution_count": 6,
   "id": "0872c646",
   "metadata": {},
   "outputs": [],
   "source": [
    "# Combine the dataset\n",
    "combined = pd.concat([train, test], ignore_index = True)"
   ]
  },
  {
   "cell_type": "code",
   "execution_count": 9,
   "id": "5384ff1e",
   "metadata": {},
   "outputs": [
    {
     "data": {
      "text/plain": [
       "Survived     418\n",
       "Age          263\n",
       "Fare           1\n",
       "Cabin       1014\n",
       "Embarked       2\n",
       "dtype: int64"
      ]
     },
     "execution_count": 9,
     "metadata": {},
     "output_type": "execute_result"
    }
   ],
   "source": [
    "# Check the Missing Values\n",
    "combined.isnull().sum()[combined.isnull().sum()!=0]"
   ]
  },
  {
   "cell_type": "code",
   "execution_count": 11,
   "id": "c7de9662",
   "metadata": {},
   "outputs": [],
   "source": [
    "cabins = ['C85', 'C123', 'E46', 'G6', 'C103', 'D56', 'A6',\n",
    "       'C23 C25 C27', 'B78', 'D33', 'B30', 'C52', 'B28', 'C83', 'F33',\n",
    "       'F G73', 'E31', 'A5', 'D10 D12', 'D26', 'C110', 'B58 B60', 'E101',\n",
    "       'F E69', 'D47', 'B86', 'F2', 'C2', 'E33', 'B19', 'A7', 'C49', 'F4',\n",
    "       'A32', 'B4', 'B80', 'A31', 'D36', 'D15', 'C93', 'C78', 'D35',\n",
    "       'C87', 'B77', 'E67', 'B94', 'C125', 'C99', 'C118', 'D7', 'A19',\n",
    "       'B49', 'D', 'C22 C26', 'C106', 'C65', 'E36', 'C54',\n",
    "       'B57 B59 B63 B66', 'C7', 'E34', 'C32', 'B18', 'C124', 'C91', 'E40',\n",
    "       'T', 'C128', 'D37', 'B35', 'E50', 'C82', 'B96 B98', 'E10', 'E44',\n",
    "       'A34', 'C104', 'C111', 'C92', 'E38', 'D21', 'E12', 'E63', 'A14',\n",
    "       'B37', 'C30', 'D20', 'B79', 'E25', 'D46', 'B73', 'C95', 'B38',\n",
    "       'B39', 'B22', 'C86', 'C70', 'A16', 'C101', 'C68', 'A10', 'E68',\n",
    "       'B41', 'A20', 'D19', 'D50', 'D9', 'A23', 'B50', 'A26', 'D48',\n",
    "       'E58', 'C126', 'B71', 'B51 B53 B55', 'D49', 'B5', 'B20', 'F G63',\n",
    "       'C62 C64', 'E24', 'C90', 'C45', 'E8', 'B101', 'D45', 'C46', 'D30',\n",
    "       'E121', 'D11', 'E77', 'F38', 'B3', 'D6', 'B82 B84', 'D17', 'A36',\n",
    "       'B102', 'B69', 'E49', 'C47', 'D28', 'E17', 'A24', 'C50', 'B42',\n",
    "       'C148', 'B45', 'B36', 'A21', 'D34', 'A9', 'C31', 'B61', 'C53',\n",
    "       'D43', 'C130', 'C132', 'C55 C57', 'C116', 'F', 'A29', 'C6', 'C28',\n",
    "       'C51', 'C97', 'D22', 'B10', 'E45', 'E52', 'A11', 'B11', 'C80',\n",
    "       'C89', 'F E46', 'B26', 'F E57', 'A18', 'E60', 'E39 E41',\n",
    "       'B52 B54 B56', 'C39', 'B24', 'D40', 'D38', 'C105']"
   ]
  },
  {
   "cell_type": "code",
   "execution_count": 12,
   "id": "ab7637c6",
   "metadata": {},
   "outputs": [
    {
     "data": {
      "text/plain": [
       "((891, 12), (418, 11), (1309, 12))"
      ]
     },
     "execution_count": 12,
     "metadata": {},
     "output_type": "execute_result"
    }
   ],
   "source": [
    "train.shape, test.shape, combined.shape"
   ]
  },
  {
   "cell_type": "code",
   "execution_count": 13,
   "id": "cf655df4",
   "metadata": {},
   "outputs": [],
   "source": [
    "def cabin_labels(x):\n",
    "    if x in cabins:\n",
    "        return(\"Cabin_Avbl\")\n",
    "    else:\n",
    "        return(\"Missing\")"
   ]
  },
  {
   "cell_type": "code",
   "execution_count": 15,
   "id": "874a2156",
   "metadata": {},
   "outputs": [],
   "source": [
    "# Lets apply this on Cabin Column..\n",
    "\n",
    "combined[\"Cabin_Cat\"] = combined[\"Cabin\"].apply(cabin_labels)"
   ]
  },
  {
   "cell_type": "code",
   "execution_count": 18,
   "id": "40cb7312",
   "metadata": {},
   "outputs": [],
   "source": [
    "#pd.crosstab(combined.Survived, \n",
    "            #combined.Cabin_Cat).plot(kind = \"bar\")\n"
   ]
  },
  {
   "cell_type": "markdown",
   "id": "e1da4ff0",
   "metadata": {},
   "source": [
    "### Name"
   ]
  },
  {
   "cell_type": "code",
   "execution_count": 24,
   "id": "18f7b8fa",
   "metadata": {},
   "outputs": [
    {
     "data": {
      "text/html": [
       "<div>\n",
       "<style scoped>\n",
       "    .dataframe tbody tr th:only-of-type {\n",
       "        vertical-align: middle;\n",
       "    }\n",
       "\n",
       "    .dataframe tbody tr th {\n",
       "        vertical-align: top;\n",
       "    }\n",
       "\n",
       "    .dataframe thead th {\n",
       "        text-align: right;\n",
       "    }\n",
       "</style>\n",
       "<table border=\"1\" class=\"dataframe\">\n",
       "  <thead>\n",
       "    <tr style=\"text-align: right;\">\n",
       "      <th></th>\n",
       "      <th>PassengerId</th>\n",
       "      <th>Survived</th>\n",
       "      <th>Pclass</th>\n",
       "      <th>Name</th>\n",
       "      <th>Sex</th>\n",
       "      <th>Age</th>\n",
       "      <th>SibSp</th>\n",
       "      <th>Parch</th>\n",
       "      <th>Ticket</th>\n",
       "      <th>Fare</th>\n",
       "      <th>Cabin</th>\n",
       "      <th>Embarked</th>\n",
       "      <th>Cabin_Cat</th>\n",
       "    </tr>\n",
       "  </thead>\n",
       "  <tbody>\n",
       "    <tr>\n",
       "      <th>1304</th>\n",
       "      <td>1305</td>\n",
       "      <td>NaN</td>\n",
       "      <td>3</td>\n",
       "      <td>Spector, Mr. Woolf</td>\n",
       "      <td>male</td>\n",
       "      <td>NaN</td>\n",
       "      <td>0</td>\n",
       "      <td>0</td>\n",
       "      <td>A.5. 3236</td>\n",
       "      <td>8.0500</td>\n",
       "      <td>NaN</td>\n",
       "      <td>S</td>\n",
       "      <td>Missing</td>\n",
       "    </tr>\n",
       "    <tr>\n",
       "      <th>1305</th>\n",
       "      <td>1306</td>\n",
       "      <td>NaN</td>\n",
       "      <td>1</td>\n",
       "      <td>Oliva y Ocana, Dona. Fermina</td>\n",
       "      <td>female</td>\n",
       "      <td>39.0</td>\n",
       "      <td>0</td>\n",
       "      <td>0</td>\n",
       "      <td>PC 17758</td>\n",
       "      <td>108.9000</td>\n",
       "      <td>C105</td>\n",
       "      <td>C</td>\n",
       "      <td>Cabin_Avbl</td>\n",
       "    </tr>\n",
       "    <tr>\n",
       "      <th>1306</th>\n",
       "      <td>1307</td>\n",
       "      <td>NaN</td>\n",
       "      <td>3</td>\n",
       "      <td>Saether, Mr. Simon Sivertsen</td>\n",
       "      <td>male</td>\n",
       "      <td>38.5</td>\n",
       "      <td>0</td>\n",
       "      <td>0</td>\n",
       "      <td>SOTON/O.Q. 3101262</td>\n",
       "      <td>7.2500</td>\n",
       "      <td>NaN</td>\n",
       "      <td>S</td>\n",
       "      <td>Missing</td>\n",
       "    </tr>\n",
       "    <tr>\n",
       "      <th>1307</th>\n",
       "      <td>1308</td>\n",
       "      <td>NaN</td>\n",
       "      <td>3</td>\n",
       "      <td>Ware, Mr. Frederick</td>\n",
       "      <td>male</td>\n",
       "      <td>NaN</td>\n",
       "      <td>0</td>\n",
       "      <td>0</td>\n",
       "      <td>359309</td>\n",
       "      <td>8.0500</td>\n",
       "      <td>NaN</td>\n",
       "      <td>S</td>\n",
       "      <td>Missing</td>\n",
       "    </tr>\n",
       "    <tr>\n",
       "      <th>1308</th>\n",
       "      <td>1309</td>\n",
       "      <td>NaN</td>\n",
       "      <td>3</td>\n",
       "      <td>Peter, Master. Michael J</td>\n",
       "      <td>male</td>\n",
       "      <td>NaN</td>\n",
       "      <td>1</td>\n",
       "      <td>1</td>\n",
       "      <td>2668</td>\n",
       "      <td>22.3583</td>\n",
       "      <td>NaN</td>\n",
       "      <td>C</td>\n",
       "      <td>Missing</td>\n",
       "    </tr>\n",
       "  </tbody>\n",
       "</table>\n",
       "</div>"
      ],
      "text/plain": [
       "      PassengerId  Survived  Pclass                          Name     Sex  \\\n",
       "1304         1305       NaN       3            Spector, Mr. Woolf    male   \n",
       "1305         1306       NaN       1  Oliva y Ocana, Dona. Fermina  female   \n",
       "1306         1307       NaN       3  Saether, Mr. Simon Sivertsen    male   \n",
       "1307         1308       NaN       3           Ware, Mr. Frederick    male   \n",
       "1308         1309       NaN       3      Peter, Master. Michael J    male   \n",
       "\n",
       "       Age  SibSp  Parch              Ticket      Fare Cabin Embarked  \\\n",
       "1304   NaN      0      0           A.5. 3236    8.0500   NaN        S   \n",
       "1305  39.0      0      0            PC 17758  108.9000  C105        C   \n",
       "1306  38.5      0      0  SOTON/O.Q. 3101262    7.2500   NaN        S   \n",
       "1307   NaN      0      0              359309    8.0500   NaN        S   \n",
       "1308   NaN      1      1                2668   22.3583   NaN        C   \n",
       "\n",
       "       Cabin_Cat  \n",
       "1304     Missing  \n",
       "1305  Cabin_Avbl  \n",
       "1306     Missing  \n",
       "1307     Missing  \n",
       "1308     Missing  "
      ]
     },
     "execution_count": 24,
     "metadata": {},
     "output_type": "execute_result"
    }
   ],
   "source": [
    "combined.tail()"
   ]
  },
  {
   "cell_type": "code",
   "execution_count": 28,
   "id": "7d8ecd71",
   "metadata": {},
   "outputs": [],
   "source": [
    "titles = []\n",
    "for i in combined.Name:\n",
    "    titles.append(i.split(\", \")[1].split(\". \")[0])"
   ]
  },
  {
   "cell_type": "code",
   "execution_count": 29,
   "id": "dec6a6c5",
   "metadata": {},
   "outputs": [],
   "source": [
    "combined[\"Titles\"] = pd.Series(titles)"
   ]
  },
  {
   "cell_type": "code",
   "execution_count": 30,
   "id": "50a580d2",
   "metadata": {},
   "outputs": [
    {
     "data": {
      "text/plain": [
       "array(['Mr', 'Mrs', 'Miss', 'Master', 'Don', 'Rev', 'Dr', 'Mme', 'Ms',\n",
       "       'Major', 'Lady', 'Sir', 'Mlle', 'Col', 'Capt', 'the Countess',\n",
       "       'Jonkheer', 'Dona'], dtype=object)"
      ]
     },
     "execution_count": 30,
     "metadata": {},
     "output_type": "execute_result"
    }
   ],
   "source": [
    "combined.Titles.unique()"
   ]
  },
  {
   "cell_type": "code",
   "execution_count": 31,
   "id": "c0e92fee",
   "metadata": {},
   "outputs": [],
   "source": [
    "titles_ignore = ['Don', 'Rev', 'Dr', 'Mme', \n",
    "                 'Major', 'Lady', 'Sir', 'Mlle', 'Col', 'Capt', \n",
    "                 'the Countess','Jonkheer', 'Dona']\n",
    "\n",
    "def notitle(x):\n",
    "    if x in titles_ignore:\n",
    "        return(\"Others\")\n",
    "    else:\n",
    "        return(x)"
   ]
  },
  {
   "cell_type": "code",
   "execution_count": 34,
   "id": "c18b3a7b",
   "metadata": {},
   "outputs": [],
   "source": [
    "combined[\"Titles\"] = combined.Titles.apply(notitle)"
   ]
  },
  {
   "cell_type": "code",
   "execution_count": 35,
   "id": "cf2d75a7",
   "metadata": {},
   "outputs": [],
   "source": [
    "combined.drop([\"PassengerId\", \"Name\", \"Cabin\"], axis = 1, \n",
    "              inplace = True)"
   ]
  },
  {
   "cell_type": "markdown",
   "id": "e963e3dc",
   "metadata": {},
   "source": [
    "### Family"
   ]
  },
  {
   "cell_type": "code",
   "execution_count": 38,
   "id": "c1c79967",
   "metadata": {},
   "outputs": [],
   "source": [
    "combined[\"Family\"] = combined.SibSp+combined.Parch+1"
   ]
  },
  {
   "cell_type": "code",
   "execution_count": 41,
   "id": "e0d460b3",
   "metadata": {},
   "outputs": [],
   "source": [
    "def parivar(x):\n",
    "    if x==1:\n",
    "        return(\"Solo\")\n",
    "    elif x==2:\n",
    "        return(\"Duo\")\n",
    "    elif x<=4:\n",
    "        return(\"Small\")\n",
    "    else:\n",
    "        return(\"Large\")"
   ]
  },
  {
   "cell_type": "code",
   "execution_count": 45,
   "id": "d9f9404a",
   "metadata": {},
   "outputs": [],
   "source": [
    "combined[\"Family_Cat\"] = combined[\"Family\"].apply(parivar)"
   ]
  },
  {
   "cell_type": "markdown",
   "id": "591154cd",
   "metadata": {},
   "source": [
    "### Missing Values"
   ]
  },
  {
   "cell_type": "code",
   "execution_count": 46,
   "id": "29e60c0a",
   "metadata": {},
   "outputs": [
    {
     "data": {
      "text/html": [
       "<div>\n",
       "<style scoped>\n",
       "    .dataframe tbody tr th:only-of-type {\n",
       "        vertical-align: middle;\n",
       "    }\n",
       "\n",
       "    .dataframe tbody tr th {\n",
       "        vertical-align: top;\n",
       "    }\n",
       "\n",
       "    .dataframe thead th {\n",
       "        text-align: right;\n",
       "    }\n",
       "</style>\n",
       "<table border=\"1\" class=\"dataframe\">\n",
       "  <thead>\n",
       "    <tr style=\"text-align: right;\">\n",
       "      <th></th>\n",
       "      <th>count</th>\n",
       "      <th>mean</th>\n",
       "      <th>std</th>\n",
       "      <th>min</th>\n",
       "      <th>25%</th>\n",
       "      <th>50%</th>\n",
       "      <th>75%</th>\n",
       "      <th>max</th>\n",
       "    </tr>\n",
       "    <tr>\n",
       "      <th>Titles</th>\n",
       "      <th></th>\n",
       "      <th></th>\n",
       "      <th></th>\n",
       "      <th></th>\n",
       "      <th></th>\n",
       "      <th></th>\n",
       "      <th></th>\n",
       "      <th></th>\n",
       "    </tr>\n",
       "  </thead>\n",
       "  <tbody>\n",
       "    <tr>\n",
       "      <th>Master</th>\n",
       "      <td>53.0</td>\n",
       "      <td>5.482642</td>\n",
       "      <td>4.161554</td>\n",
       "      <td>0.33</td>\n",
       "      <td>2.0</td>\n",
       "      <td>4.0</td>\n",
       "      <td>9.0</td>\n",
       "      <td>14.5</td>\n",
       "    </tr>\n",
       "    <tr>\n",
       "      <th>Miss</th>\n",
       "      <td>210.0</td>\n",
       "      <td>21.774238</td>\n",
       "      <td>12.249077</td>\n",
       "      <td>0.17</td>\n",
       "      <td>15.0</td>\n",
       "      <td>22.0</td>\n",
       "      <td>30.0</td>\n",
       "      <td>63.0</td>\n",
       "    </tr>\n",
       "    <tr>\n",
       "      <th>Mr</th>\n",
       "      <td>581.0</td>\n",
       "      <td>32.252151</td>\n",
       "      <td>12.422089</td>\n",
       "      <td>11.00</td>\n",
       "      <td>23.0</td>\n",
       "      <td>29.0</td>\n",
       "      <td>39.0</td>\n",
       "      <td>80.0</td>\n",
       "    </tr>\n",
       "    <tr>\n",
       "      <th>Mrs</th>\n",
       "      <td>170.0</td>\n",
       "      <td>36.994118</td>\n",
       "      <td>12.901767</td>\n",
       "      <td>14.00</td>\n",
       "      <td>27.0</td>\n",
       "      <td>35.5</td>\n",
       "      <td>46.5</td>\n",
       "      <td>76.0</td>\n",
       "    </tr>\n",
       "    <tr>\n",
       "      <th>Ms</th>\n",
       "      <td>1.0</td>\n",
       "      <td>28.000000</td>\n",
       "      <td>NaN</td>\n",
       "      <td>28.00</td>\n",
       "      <td>28.0</td>\n",
       "      <td>28.0</td>\n",
       "      <td>28.0</td>\n",
       "      <td>28.0</td>\n",
       "    </tr>\n",
       "    <tr>\n",
       "      <th>Others</th>\n",
       "      <td>31.0</td>\n",
       "      <td>43.129032</td>\n",
       "      <td>12.309189</td>\n",
       "      <td>23.00</td>\n",
       "      <td>32.5</td>\n",
       "      <td>45.0</td>\n",
       "      <td>52.5</td>\n",
       "      <td>70.0</td>\n",
       "    </tr>\n",
       "  </tbody>\n",
       "</table>\n",
       "</div>"
      ],
      "text/plain": [
       "        count       mean        std    min   25%   50%   75%   max\n",
       "Titles                                                            \n",
       "Master   53.0   5.482642   4.161554   0.33   2.0   4.0   9.0  14.5\n",
       "Miss    210.0  21.774238  12.249077   0.17  15.0  22.0  30.0  63.0\n",
       "Mr      581.0  32.252151  12.422089  11.00  23.0  29.0  39.0  80.0\n",
       "Mrs     170.0  36.994118  12.901767  14.00  27.0  35.5  46.5  76.0\n",
       "Ms        1.0  28.000000        NaN  28.00  28.0  28.0  28.0  28.0\n",
       "Others   31.0  43.129032  12.309189  23.00  32.5  45.0  52.5  70.0"
      ]
     },
     "execution_count": 46,
     "metadata": {},
     "output_type": "execute_result"
    }
   ],
   "source": [
    "combined.groupby(\"Titles\")[\"Age\"].describe()"
   ]
  },
  {
   "cell_type": "code",
   "execution_count": 48,
   "id": "65bbb753",
   "metadata": {},
   "outputs": [],
   "source": [
    "missing_titles = combined.loc[combined.Age.isnull(), \n",
    "                              \"Titles\"].unique()"
   ]
  },
  {
   "cell_type": "code",
   "execution_count": 51,
   "id": "bda6b3d7",
   "metadata": {},
   "outputs": [],
   "source": [
    "for i in missing_titles:\n",
    "    combined.loc[combined.Age.isnull(), \"Age\"] = \\\n",
    "    combined.loc[combined.Titles==i, \"Age\"].median()"
   ]
  },
  {
   "cell_type": "code",
   "execution_count": 54,
   "id": "c73d2a07",
   "metadata": {},
   "outputs": [],
   "source": [
    "combined.loc[combined.Embarked.isnull(),\n",
    "            \"Embarked\"] = combined.Embarked.mode()[0]"
   ]
  },
  {
   "cell_type": "code",
   "execution_count": 56,
   "id": "2c6285fb",
   "metadata": {},
   "outputs": [],
   "source": [
    "combined.loc[combined.Fare.isnull(), \"Fare\"] = \\\n",
    "combined.Fare.median()"
   ]
  },
  {
   "cell_type": "code",
   "execution_count": 59,
   "id": "1b84cf5a",
   "metadata": {},
   "outputs": [
    {
     "data": {
      "text/plain": [
       "((891, 13), (418, 13))"
      ]
     },
     "execution_count": 59,
     "metadata": {},
     "output_type": "execute_result"
    }
   ],
   "source": [
    "# Split the data back in train and test\n",
    "\n",
    "newtrain = combined.loc[0:train.shape[0]-1, ]\n",
    "\n",
    "newtest = combined.loc[train.shape[0]:, ]\n",
    "\n",
    "newtrain.shape, newtest.shape"
   ]
  },
  {
   "cell_type": "code",
   "execution_count": 62,
   "id": "f71fc652",
   "metadata": {},
   "outputs": [],
   "source": [
    "X = newtrain.drop([\"Survived\", \"Ticket\"], axis = 1)\n",
    "y = newtrain.Survived.astype(int)\n",
    "\n",
    "newtest.drop([\"Survived\", \"Ticket\"], axis = 1, inplace = True)"
   ]
  },
  {
   "cell_type": "markdown",
   "id": "7b6f3464",
   "metadata": {},
   "source": [
    "### Model Building\n",
    "\n",
    "* Base Model - The first model in classification which is also known as Base model should be a prediction of 0\n"
   ]
  },
  {
   "cell_type": "code",
   "execution_count": 70,
   "id": "e4dd15b0",
   "metadata": {},
   "outputs": [],
   "source": [
    "submission = pd.DataFrame({\"PassengerId\": test.PassengerId,\n",
    "                          \"Survived\":0})\n",
    "\n",
    "submission.to_csv(\"titanicbasemodel.csv\", index = False) # 62%"
   ]
  },
  {
   "cell_type": "code",
   "execution_count": 69,
   "id": "eeada7d1",
   "metadata": {},
   "outputs": [
    {
     "name": "stdout",
     "output_type": "stream",
     "text": [
      "C:\\Users\\IT\n"
     ]
    }
   ],
   "source": [
    "cd"
   ]
  },
  {
   "cell_type": "code",
   "execution_count": 72,
   "id": "df652b09",
   "metadata": {},
   "outputs": [],
   "source": [
    "# dummify the data\n",
    "newX = pd.get_dummies(X, drop_first = True)\n",
    "newtest = pd.get_dummies(newtest, drop_first = True)"
   ]
  },
  {
   "cell_type": "code",
   "execution_count": 74,
   "id": "75888b88",
   "metadata": {},
   "outputs": [],
   "source": [
    "from sklearn.linear_model import LogisticRegression\n",
    "\n",
    "lg = LogisticRegression()\n",
    "pred = lg.fit(newX, y).predict(newtest)"
   ]
  },
  {
   "cell_type": "code",
   "execution_count": 75,
   "id": "6c147d05",
   "metadata": {},
   "outputs": [],
   "source": [
    "submission = pd.DataFrame({\"PassengerId\": test.PassengerId,\n",
    "                          \"Survived\":pred})\n",
    "\n",
    "submission.to_csv(\"logistic_titanic.csv\", index = False) # 76.315"
   ]
  },
  {
   "cell_type": "markdown",
   "id": "8f4f6d03",
   "metadata": {},
   "source": [
    "### Model Metrics & Evaluation\n",
    "\n",
    "* VIF\n",
    "* Logit Model\n",
    "* Interpretation of Coefficients\n",
    "* Prediction using Sigmoid\n",
    "* Pseudo R2\n",
    "* Statistical Tests\n",
    "* Deviance\n",
    "* AIC\n"
   ]
  },
  {
   "cell_type": "code",
   "execution_count": 79,
   "id": "441f0cb3",
   "metadata": {},
   "outputs": [
    {
     "name": "stdout",
     "output_type": "stream",
     "text": [
      "Warning: Maximum number of iterations has been exceeded.\n",
      "         Current function value: 0.397365\n",
      "         Iterations: 35\n"
     ]
    },
    {
     "name": "stderr",
     "output_type": "stream",
     "text": [
      "C:\\Users\\IT\\anaconda3\\lib\\site-packages\\statsmodels\\base\\model.py:604: ConvergenceWarning: Maximum Likelihood optimization failed to converge. Check mle_retvals\n",
      "  warnings.warn(\"Maximum Likelihood optimization failed to \"\n"
     ]
    },
    {
     "data": {
      "text/html": [
       "<table class=\"simpletable\">\n",
       "<caption>Logit Regression Results</caption>\n",
       "<tr>\n",
       "  <th>Dep. Variable:</th>       <td>Survived</td>     <th>  No. Observations:  </th>  <td>   891</td>  \n",
       "</tr>\n",
       "<tr>\n",
       "  <th>Model:</th>                 <td>Logit</td>      <th>  Df Residuals:      </th>  <td>   873</td>  \n",
       "</tr>\n",
       "<tr>\n",
       "  <th>Method:</th>                 <td>MLE</td>       <th>  Df Model:          </th>  <td>    17</td>  \n",
       "</tr>\n",
       "<tr>\n",
       "  <th>Date:</th>            <td>Tue, 05 Dec 2023</td> <th>  Pseudo R-squ.:     </th>  <td>0.4033</td>  \n",
       "</tr>\n",
       "<tr>\n",
       "  <th>Time:</th>                <td>11:50:41</td>     <th>  Log-Likelihood:    </th> <td> -354.05</td> \n",
       "</tr>\n",
       "<tr>\n",
       "  <th>converged:</th>             <td>False</td>      <th>  LL-Null:           </th> <td> -593.33</td> \n",
       "</tr>\n",
       "<tr>\n",
       "  <th>Covariance Type:</th>     <td>nonrobust</td>    <th>  LLR p-value:       </th> <td>6.198e-91</td>\n",
       "</tr>\n",
       "</table>\n",
       "<table class=\"simpletable\">\n",
       "<tr>\n",
       "          <td></td>             <th>coef</th>     <th>std err</th>      <th>z</th>      <th>P>|z|</th>  <th>[0.025</th>    <th>0.975]</th>  \n",
       "</tr>\n",
       "<tr>\n",
       "  <th>Pclass</th>            <td>   -0.8026</td> <td>    0.187</td> <td>   -4.292</td> <td> 0.000</td> <td>   -1.169</td> <td>   -0.436</td>\n",
       "</tr>\n",
       "<tr>\n",
       "  <th>Age</th>               <td>   -0.0234</td> <td>    0.009</td> <td>   -2.505</td> <td> 0.012</td> <td>   -0.042</td> <td>   -0.005</td>\n",
       "</tr>\n",
       "<tr>\n",
       "  <th>SibSp</th>             <td>  -30.2490</td> <td> 1.27e+05</td> <td>   -0.000</td> <td> 1.000</td> <td>-2.48e+05</td> <td> 2.48e+05</td>\n",
       "</tr>\n",
       "<tr>\n",
       "  <th>Parch</th>             <td>  -30.1413</td> <td> 1.27e+05</td> <td>   -0.000</td> <td> 1.000</td> <td>-2.48e+05</td> <td> 2.48e+05</td>\n",
       "</tr>\n",
       "<tr>\n",
       "  <th>Fare</th>              <td>    0.0034</td> <td>    0.003</td> <td>    1.314</td> <td> 0.189</td> <td>   -0.002</td> <td>    0.009</td>\n",
       "</tr>\n",
       "<tr>\n",
       "  <th>Family</th>            <td>   30.1692</td> <td> 1.27e+05</td> <td>    0.000</td> <td> 1.000</td> <td>-2.48e+05</td> <td> 2.48e+05</td>\n",
       "</tr>\n",
       "<tr>\n",
       "  <th>Sex_male</th>          <td>  -25.4242</td> <td> 1.27e+05</td> <td>   -0.000</td> <td> 1.000</td> <td>-2.48e+05</td> <td> 2.48e+05</td>\n",
       "</tr>\n",
       "<tr>\n",
       "  <th>Embarked_Q</th>        <td>    0.0330</td> <td>    0.401</td> <td>    0.082</td> <td> 0.935</td> <td>   -0.754</td> <td>    0.819</td>\n",
       "</tr>\n",
       "<tr>\n",
       "  <th>Embarked_S</th>        <td>   -0.3189</td> <td>    0.254</td> <td>   -1.256</td> <td> 0.209</td> <td>   -0.816</td> <td>    0.179</td>\n",
       "</tr>\n",
       "<tr>\n",
       "  <th>Cabin_Cat_Missing</th> <td>   -0.6404</td> <td>    0.322</td> <td>   -1.991</td> <td> 0.047</td> <td>   -1.271</td> <td>   -0.010</td>\n",
       "</tr>\n",
       "<tr>\n",
       "  <th>Titles_Miss</th>       <td>  -26.0898</td> <td> 1.27e+05</td> <td>   -0.000</td> <td> 1.000</td> <td>-2.48e+05</td> <td> 2.48e+05</td>\n",
       "</tr>\n",
       "<tr>\n",
       "  <th>Titles_Mr</th>         <td>   -3.5874</td> <td>    0.598</td> <td>   -6.003</td> <td> 0.000</td> <td>   -4.759</td> <td>   -2.416</td>\n",
       "</tr>\n",
       "<tr>\n",
       "  <th>Titles_Mrs</th>        <td>  -25.4100</td> <td> 1.27e+05</td> <td>   -0.000</td> <td> 1.000</td> <td>-2.48e+05</td> <td> 2.48e+05</td>\n",
       "</tr>\n",
       "<tr>\n",
       "  <th>Titles_Ms</th>         <td>  -10.4748</td> <td> 1.27e+05</td> <td>-8.26e-05</td> <td> 1.000</td> <td>-2.49e+05</td> <td> 2.49e+05</td>\n",
       "</tr>\n",
       "<tr>\n",
       "  <th>Titles_Others</th>     <td>   -3.5582</td> <td>    0.824</td> <td>   -4.316</td> <td> 0.000</td> <td>   -5.174</td> <td>   -1.942</td>\n",
       "</tr>\n",
       "<tr>\n",
       "  <th>Family_Cat_Large</th>  <td>   -2.5015</td> <td>    1.291</td> <td>   -1.937</td> <td> 0.053</td> <td>   -5.032</td> <td>    0.029</td>\n",
       "</tr>\n",
       "<tr>\n",
       "  <th>Family_Cat_Small</th>  <td>    0.1452</td> <td>    0.500</td> <td>    0.291</td> <td> 0.771</td> <td>   -0.834</td> <td>    1.125</td>\n",
       "</tr>\n",
       "<tr>\n",
       "  <th>Family_Cat_Solo</th>   <td>    0.3804</td> <td>    0.391</td> <td>    0.972</td> <td> 0.331</td> <td>   -0.387</td> <td>    1.148</td>\n",
       "</tr>\n",
       "</table>"
      ],
      "text/plain": [
       "<class 'statsmodels.iolib.summary.Summary'>\n",
       "\"\"\"\n",
       "                           Logit Regression Results                           \n",
       "==============================================================================\n",
       "Dep. Variable:               Survived   No. Observations:                  891\n",
       "Model:                          Logit   Df Residuals:                      873\n",
       "Method:                           MLE   Df Model:                           17\n",
       "Date:                Tue, 05 Dec 2023   Pseudo R-squ.:                  0.4033\n",
       "Time:                        11:50:41   Log-Likelihood:                -354.05\n",
       "converged:                      False   LL-Null:                       -593.33\n",
       "Covariance Type:            nonrobust   LLR p-value:                 6.198e-91\n",
       "=====================================================================================\n",
       "                        coef    std err          z      P>|z|      [0.025      0.975]\n",
       "-------------------------------------------------------------------------------------\n",
       "Pclass               -0.8026      0.187     -4.292      0.000      -1.169      -0.436\n",
       "Age                  -0.0234      0.009     -2.505      0.012      -0.042      -0.005\n",
       "SibSp               -30.2490   1.27e+05     -0.000      1.000   -2.48e+05    2.48e+05\n",
       "Parch               -30.1413   1.27e+05     -0.000      1.000   -2.48e+05    2.48e+05\n",
       "Fare                  0.0034      0.003      1.314      0.189      -0.002       0.009\n",
       "Family               30.1692   1.27e+05      0.000      1.000   -2.48e+05    2.48e+05\n",
       "Sex_male            -25.4242   1.27e+05     -0.000      1.000   -2.48e+05    2.48e+05\n",
       "Embarked_Q            0.0330      0.401      0.082      0.935      -0.754       0.819\n",
       "Embarked_S           -0.3189      0.254     -1.256      0.209      -0.816       0.179\n",
       "Cabin_Cat_Missing    -0.6404      0.322     -1.991      0.047      -1.271      -0.010\n",
       "Titles_Miss         -26.0898   1.27e+05     -0.000      1.000   -2.48e+05    2.48e+05\n",
       "Titles_Mr            -3.5874      0.598     -6.003      0.000      -4.759      -2.416\n",
       "Titles_Mrs          -25.4100   1.27e+05     -0.000      1.000   -2.48e+05    2.48e+05\n",
       "Titles_Ms           -10.4748   1.27e+05  -8.26e-05      1.000   -2.49e+05    2.49e+05\n",
       "Titles_Others        -3.5582      0.824     -4.316      0.000      -5.174      -1.942\n",
       "Family_Cat_Large     -2.5015      1.291     -1.937      0.053      -5.032       0.029\n",
       "Family_Cat_Small      0.1452      0.500      0.291      0.771      -0.834       1.125\n",
       "Family_Cat_Solo       0.3804      0.391      0.972      0.331      -0.387       1.148\n",
       "=====================================================================================\n",
       "\"\"\""
      ]
     },
     "execution_count": 79,
     "metadata": {},
     "output_type": "execute_result"
    }
   ],
   "source": [
    "import statsmodels.api as sma\n",
    "\n",
    "model = sma.Logit(y, newX).fit()\n",
    "model.summary()"
   ]
  },
  {
   "cell_type": "markdown",
   "id": "e691993a",
   "metadata": {},
   "source": [
    "### Basic Inference on the Output\n",
    "\n",
    "* There are lot of features which have a very high PValue which indicates that the features are statistically insignificant.\n",
    "\n",
    "* This also indicates that there is lot of Multicollinearity between the Categorical Predictors.\n",
    "\n",
    "* Warning also suggests that the model is not a good model because MLE could not help converge the Sigmoid Curve"
   ]
  },
  {
   "cell_type": "code",
   "execution_count": 83,
   "id": "5340ead0",
   "metadata": {},
   "outputs": [],
   "source": [
    "# VIF for Multicollinearity Check..\n",
    "from statsmodels.stats.outliers_influence import \\\n",
    "variance_inflation_factor\n",
    "\n",
    "vif = []\n",
    "for i in range(newX.shape[1]):\n",
    "    vif.append(variance_inflation_factor(newX.values, i))\n",
    "    "
   ]
  },
  {
   "cell_type": "code",
   "execution_count": 85,
   "id": "a8baffe3",
   "metadata": {},
   "outputs": [
    {
     "data": {
      "text/html": [
       "<div>\n",
       "<style scoped>\n",
       "    .dataframe tbody tr th:only-of-type {\n",
       "        vertical-align: middle;\n",
       "    }\n",
       "\n",
       "    .dataframe tbody tr th {\n",
       "        vertical-align: top;\n",
       "    }\n",
       "\n",
       "    .dataframe thead th {\n",
       "        text-align: right;\n",
       "    }\n",
       "</style>\n",
       "<table border=\"1\" class=\"dataframe\">\n",
       "  <thead>\n",
       "    <tr style=\"text-align: right;\">\n",
       "      <th></th>\n",
       "      <th>Value</th>\n",
       "    </tr>\n",
       "  </thead>\n",
       "  <tbody>\n",
       "    <tr>\n",
       "      <th>Family</th>\n",
       "      <td>1541.844876</td>\n",
       "    </tr>\n",
       "    <tr>\n",
       "      <th>SibSp</th>\n",
       "      <td>386.127423</td>\n",
       "    </tr>\n",
       "    <tr>\n",
       "      <th>Parch</th>\n",
       "      <td>208.163779</td>\n",
       "    </tr>\n",
       "    <tr>\n",
       "      <th>Sex_male</th>\n",
       "      <td>45.570269</td>\n",
       "    </tr>\n",
       "    <tr>\n",
       "      <th>Titles_Miss</th>\n",
       "      <td>38.104557</td>\n",
       "    </tr>\n",
       "    <tr>\n",
       "      <th>Titles_Mrs</th>\n",
       "      <td>29.624656</td>\n",
       "    </tr>\n",
       "    <tr>\n",
       "      <th>Titles_Mr</th>\n",
       "      <td>8.477798</td>\n",
       "    </tr>\n",
       "    <tr>\n",
       "      <th>Family_Cat_Large</th>\n",
       "      <td>8.368818</td>\n",
       "    </tr>\n",
       "    <tr>\n",
       "      <th>Family_Cat_Solo</th>\n",
       "      <td>3.209859</td>\n",
       "    </tr>\n",
       "    <tr>\n",
       "      <th>Family_Cat_Small</th>\n",
       "      <td>2.982278</td>\n",
       "    </tr>\n",
       "    <tr>\n",
       "      <th>Pclass</th>\n",
       "      <td>2.887608</td>\n",
       "    </tr>\n",
       "    <tr>\n",
       "      <th>Titles_Others</th>\n",
       "      <td>2.375225</td>\n",
       "    </tr>\n",
       "    <tr>\n",
       "      <th>Cabin_Cat_Missing</th>\n",
       "      <td>2.228914</td>\n",
       "    </tr>\n",
       "    <tr>\n",
       "      <th>Fare</th>\n",
       "      <td>1.716397</td>\n",
       "    </tr>\n",
       "    <tr>\n",
       "      <th>Age</th>\n",
       "      <td>1.564016</td>\n",
       "    </tr>\n",
       "    <tr>\n",
       "      <th>Embarked_Q</th>\n",
       "      <td>1.546592</td>\n",
       "    </tr>\n",
       "    <tr>\n",
       "      <th>Embarked_S</th>\n",
       "      <td>1.495120</td>\n",
       "    </tr>\n",
       "    <tr>\n",
       "      <th>Titles_Ms</th>\n",
       "      <td>1.269940</td>\n",
       "    </tr>\n",
       "  </tbody>\n",
       "</table>\n",
       "</div>"
      ],
      "text/plain": [
       "                         Value\n",
       "Family             1541.844876\n",
       "SibSp               386.127423\n",
       "Parch               208.163779\n",
       "Sex_male             45.570269\n",
       "Titles_Miss          38.104557\n",
       "Titles_Mrs           29.624656\n",
       "Titles_Mr             8.477798\n",
       "Family_Cat_Large      8.368818\n",
       "Family_Cat_Solo       3.209859\n",
       "Family_Cat_Small      2.982278\n",
       "Pclass                2.887608\n",
       "Titles_Others         2.375225\n",
       "Cabin_Cat_Missing     2.228914\n",
       "Fare                  1.716397\n",
       "Age                   1.564016\n",
       "Embarked_Q            1.546592\n",
       "Embarked_S            1.495120\n",
       "Titles_Ms             1.269940"
      ]
     },
     "execution_count": 85,
     "metadata": {},
     "output_type": "execute_result"
    }
   ],
   "source": [
    "pd.DataFrame(vif, columns = [\"Value\"], index = newX.columns).\\\n",
    "sort_values(ascending = False, by = \"Value\")"
   ]
  },
  {
   "cell_type": "code",
   "execution_count": 86,
   "id": "b9aabff9",
   "metadata": {},
   "outputs": [],
   "source": [
    "# SIPSP, PARCH Sex_male\n",
    "subset = newX.drop([\"SibSp\", \"Parch\", \"Sex_male\"], axis = 1)"
   ]
  },
  {
   "cell_type": "code",
   "execution_count": 87,
   "id": "7ee971df",
   "metadata": {},
   "outputs": [
    {
     "name": "stdout",
     "output_type": "stream",
     "text": [
      "Warning: Maximum number of iterations has been exceeded.\n",
      "         Current function value: 0.421190\n",
      "         Iterations: 35\n"
     ]
    },
    {
     "name": "stderr",
     "output_type": "stream",
     "text": [
      "C:\\Users\\IT\\anaconda3\\lib\\site-packages\\statsmodels\\base\\model.py:604: ConvergenceWarning: Maximum Likelihood optimization failed to converge. Check mle_retvals\n",
      "  warnings.warn(\"Maximum Likelihood optimization failed to \"\n"
     ]
    },
    {
     "data": {
      "text/html": [
       "<table class=\"simpletable\">\n",
       "<caption>Logit Regression Results</caption>\n",
       "<tr>\n",
       "  <th>Dep. Variable:</th>       <td>Survived</td>     <th>  No. Observations:  </th>  <td>   891</td>  \n",
       "</tr>\n",
       "<tr>\n",
       "  <th>Model:</th>                 <td>Logit</td>      <th>  Df Residuals:      </th>  <td>   876</td>  \n",
       "</tr>\n",
       "<tr>\n",
       "  <th>Method:</th>                 <td>MLE</td>       <th>  Df Model:          </th>  <td>    14</td>  \n",
       "</tr>\n",
       "<tr>\n",
       "  <th>Date:</th>            <td>Tue, 05 Dec 2023</td> <th>  Pseudo R-squ.:     </th>  <td>0.3675</td>  \n",
       "</tr>\n",
       "<tr>\n",
       "  <th>Time:</th>                <td>12:09:46</td>     <th>  Log-Likelihood:    </th> <td> -375.28</td> \n",
       "</tr>\n",
       "<tr>\n",
       "  <th>converged:</th>             <td>False</td>      <th>  LL-Null:           </th> <td> -593.33</td> \n",
       "</tr>\n",
       "<tr>\n",
       "  <th>Covariance Type:</th>     <td>nonrobust</td>    <th>  LLR p-value:       </th> <td>3.084e-84</td>\n",
       "</tr>\n",
       "</table>\n",
       "<table class=\"simpletable\">\n",
       "<tr>\n",
       "          <td></td>             <th>coef</th>     <th>std err</th>      <th>z</th>      <th>P>|z|</th>  <th>[0.025</th>    <th>0.975]</th>  \n",
       "</tr>\n",
       "<tr>\n",
       "  <th>Pclass</th>            <td>   -0.2969</td> <td>    0.168</td> <td>   -1.773</td> <td> 0.076</td> <td>   -0.625</td> <td>    0.031</td>\n",
       "</tr>\n",
       "<tr>\n",
       "  <th>Age</th>               <td>   -0.0131</td> <td>    0.009</td> <td>   -1.504</td> <td> 0.133</td> <td>   -0.030</td> <td>    0.004</td>\n",
       "</tr>\n",
       "<tr>\n",
       "  <th>Fare</th>              <td>    0.0097</td> <td>    0.003</td> <td>    3.240</td> <td> 0.001</td> <td>    0.004</td> <td>    0.016</td>\n",
       "</tr>\n",
       "<tr>\n",
       "  <th>Family</th>            <td>    0.5728</td> <td>    0.170</td> <td>    3.372</td> <td> 0.001</td> <td>    0.240</td> <td>    0.906</td>\n",
       "</tr>\n",
       "<tr>\n",
       "  <th>Embarked_Q</th>        <td>    0.1156</td> <td>    0.394</td> <td>    0.293</td> <td> 0.769</td> <td>   -0.657</td> <td>    0.888</td>\n",
       "</tr>\n",
       "<tr>\n",
       "  <th>Embarked_S</th>        <td>   -0.0706</td> <td>    0.241</td> <td>   -0.293</td> <td> 0.769</td> <td>   -0.542</td> <td>    0.401</td>\n",
       "</tr>\n",
       "<tr>\n",
       "  <th>Cabin_Cat_Missing</th> <td>   -0.7748</td> <td>    0.314</td> <td>   -2.468</td> <td> 0.014</td> <td>   -1.390</td> <td>   -0.159</td>\n",
       "</tr>\n",
       "<tr>\n",
       "  <th>Titles_Miss</th>       <td>    0.8299</td> <td>    0.449</td> <td>    1.847</td> <td> 0.065</td> <td>   -0.051</td> <td>    1.711</td>\n",
       "</tr>\n",
       "<tr>\n",
       "  <th>Titles_Mr</th>         <td>   -1.9628</td> <td>    0.468</td> <td>   -4.195</td> <td> 0.000</td> <td>   -2.880</td> <td>   -1.046</td>\n",
       "</tr>\n",
       "<tr>\n",
       "  <th>Titles_Mrs</th>        <td>    1.5941</td> <td>    0.507</td> <td>    3.145</td> <td> 0.002</td> <td>    0.601</td> <td>    2.587</td>\n",
       "</tr>\n",
       "<tr>\n",
       "  <th>Titles_Ms</th>         <td>   21.3221</td> <td> 4.64e+04</td> <td>    0.000</td> <td> 1.000</td> <td>-9.09e+04</td> <td> 9.09e+04</td>\n",
       "</tr>\n",
       "<tr>\n",
       "  <th>Titles_Others</th>     <td>   -1.0974</td> <td>    0.632</td> <td>   -1.736</td> <td> 0.082</td> <td>   -2.336</td> <td>    0.141</td>\n",
       "</tr>\n",
       "<tr>\n",
       "  <th>Family_Cat_Large</th>  <td>   -5.0538</td> <td>    1.047</td> <td>   -4.825</td> <td> 0.000</td> <td>   -7.107</td> <td>   -3.001</td>\n",
       "</tr>\n",
       "<tr>\n",
       "  <th>Family_Cat_Small</th>  <td>   -0.0480</td> <td>    0.396</td> <td>   -0.121</td> <td> 0.903</td> <td>   -0.823</td> <td>    0.727</td>\n",
       "</tr>\n",
       "<tr>\n",
       "  <th>Family_Cat_Solo</th>   <td>    1.2741</td> <td>    0.321</td> <td>    3.971</td> <td> 0.000</td> <td>    0.645</td> <td>    1.903</td>\n",
       "</tr>\n",
       "</table>"
      ],
      "text/plain": [
       "<class 'statsmodels.iolib.summary.Summary'>\n",
       "\"\"\"\n",
       "                           Logit Regression Results                           \n",
       "==============================================================================\n",
       "Dep. Variable:               Survived   No. Observations:                  891\n",
       "Model:                          Logit   Df Residuals:                      876\n",
       "Method:                           MLE   Df Model:                           14\n",
       "Date:                Tue, 05 Dec 2023   Pseudo R-squ.:                  0.3675\n",
       "Time:                        12:09:46   Log-Likelihood:                -375.28\n",
       "converged:                      False   LL-Null:                       -593.33\n",
       "Covariance Type:            nonrobust   LLR p-value:                 3.084e-84\n",
       "=====================================================================================\n",
       "                        coef    std err          z      P>|z|      [0.025      0.975]\n",
       "-------------------------------------------------------------------------------------\n",
       "Pclass               -0.2969      0.168     -1.773      0.076      -0.625       0.031\n",
       "Age                  -0.0131      0.009     -1.504      0.133      -0.030       0.004\n",
       "Fare                  0.0097      0.003      3.240      0.001       0.004       0.016\n",
       "Family                0.5728      0.170      3.372      0.001       0.240       0.906\n",
       "Embarked_Q            0.1156      0.394      0.293      0.769      -0.657       0.888\n",
       "Embarked_S           -0.0706      0.241     -0.293      0.769      -0.542       0.401\n",
       "Cabin_Cat_Missing    -0.7748      0.314     -2.468      0.014      -1.390      -0.159\n",
       "Titles_Miss           0.8299      0.449      1.847      0.065      -0.051       1.711\n",
       "Titles_Mr            -1.9628      0.468     -4.195      0.000      -2.880      -1.046\n",
       "Titles_Mrs            1.5941      0.507      3.145      0.002       0.601       2.587\n",
       "Titles_Ms            21.3221   4.64e+04      0.000      1.000   -9.09e+04    9.09e+04\n",
       "Titles_Others        -1.0974      0.632     -1.736      0.082      -2.336       0.141\n",
       "Family_Cat_Large     -5.0538      1.047     -4.825      0.000      -7.107      -3.001\n",
       "Family_Cat_Small     -0.0480      0.396     -0.121      0.903      -0.823       0.727\n",
       "Family_Cat_Solo       1.2741      0.321      3.971      0.000       0.645       1.903\n",
       "=====================================================================================\n",
       "\"\"\""
      ]
     },
     "execution_count": 87,
     "metadata": {},
     "output_type": "execute_result"
    }
   ],
   "source": [
    "# lets rebuild the Model\n",
    "model = sma.Logit(y, subset).fit()\n",
    "\n",
    "model.summary()"
   ]
  },
  {
   "cell_type": "markdown",
   "id": "d8de7457",
   "metadata": {},
   "source": [
    "##### Lets Remove the High PValues"
   ]
  },
  {
   "cell_type": "code",
   "execution_count": 89,
   "id": "fceba0c3",
   "metadata": {},
   "outputs": [],
   "source": [
    "feats =[]\n",
    "\n",
    "for i in model.pvalues:\n",
    "    if i <0.05:\n",
    "        feats.append(model.pvalues.index)\n",
    "    "
   ]
  },
  {
   "cell_type": "code",
   "execution_count": null,
   "id": "897867e3",
   "metadata": {},
   "outputs": [],
   "source": []
  },
  {
   "cell_type": "code",
   "execution_count": 96,
   "id": "5f2e20e0",
   "metadata": {},
   "outputs": [],
   "source": [
    "localdf = pd.DataFrame(model.pvalues, \n",
    "                       columns = [\"Pvalue\"]).reset_index()"
   ]
  },
  {
   "cell_type": "code",
   "execution_count": 105,
   "id": "8f7d78f6",
   "metadata": {},
   "outputs": [],
   "source": [
    "feats = list(localdf.loc[localdf[\"Pvalue\"]<0.05, \"index\"])"
   ]
  },
  {
   "cell_type": "code",
   "execution_count": 106,
   "id": "bef49a10",
   "metadata": {},
   "outputs": [
    {
     "name": "stdout",
     "output_type": "stream",
     "text": [
      "Optimization terminated successfully.\n",
      "         Current function value: 0.434542\n",
      "         Iterations 6\n"
     ]
    },
    {
     "data": {
      "text/html": [
       "<table class=\"simpletable\">\n",
       "<caption>Logit Regression Results</caption>\n",
       "<tr>\n",
       "  <th>Dep. Variable:</th>       <td>Survived</td>     <th>  No. Observations:  </th>  <td>   891</td>  \n",
       "</tr>\n",
       "<tr>\n",
       "  <th>Model:</th>                 <td>Logit</td>      <th>  Df Residuals:      </th>  <td>   884</td>  \n",
       "</tr>\n",
       "<tr>\n",
       "  <th>Method:</th>                 <td>MLE</td>       <th>  Df Model:          </th>  <td>     6</td>  \n",
       "</tr>\n",
       "<tr>\n",
       "  <th>Date:</th>            <td>Tue, 05 Dec 2023</td> <th>  Pseudo R-squ.:     </th>  <td>0.3474</td>  \n",
       "</tr>\n",
       "<tr>\n",
       "  <th>Time:</th>                <td>12:18:29</td>     <th>  Log-Likelihood:    </th> <td> -387.18</td> \n",
       "</tr>\n",
       "<tr>\n",
       "  <th>converged:</th>             <td>True</td>       <th>  LL-Null:           </th> <td> -593.33</td> \n",
       "</tr>\n",
       "<tr>\n",
       "  <th>Covariance Type:</th>     <td>nonrobust</td>    <th>  LLR p-value:       </th> <td>6.329e-86</td>\n",
       "</tr>\n",
       "</table>\n",
       "<table class=\"simpletable\">\n",
       "<tr>\n",
       "          <td></td>             <th>coef</th>     <th>std err</th>      <th>z</th>      <th>P>|z|</th>  <th>[0.025</th>    <th>0.975]</th>  \n",
       "</tr>\n",
       "<tr>\n",
       "  <th>Fare</th>              <td>    0.0109</td> <td>    0.003</td> <td>    4.200</td> <td> 0.000</td> <td>    0.006</td> <td>    0.016</td>\n",
       "</tr>\n",
       "<tr>\n",
       "  <th>Family</th>            <td>    0.4258</td> <td>    0.098</td> <td>    4.363</td> <td> 0.000</td> <td>    0.235</td> <td>    0.617</td>\n",
       "</tr>\n",
       "<tr>\n",
       "  <th>Cabin_Cat_Missing</th> <td>   -0.9245</td> <td>    0.232</td> <td>   -3.977</td> <td> 0.000</td> <td>   -1.380</td> <td>   -0.469</td>\n",
       "</tr>\n",
       "<tr>\n",
       "  <th>Titles_Mr</th>         <td>   -2.5722</td> <td>    0.203</td> <td>  -12.698</td> <td> 0.000</td> <td>   -2.969</td> <td>   -2.175</td>\n",
       "</tr>\n",
       "<tr>\n",
       "  <th>Titles_Mrs</th>        <td>    0.8667</td> <td>    0.293</td> <td>    2.958</td> <td> 0.003</td> <td>    0.292</td> <td>    1.441</td>\n",
       "</tr>\n",
       "<tr>\n",
       "  <th>Family_Cat_Large</th>  <td>   -4.4873</td> <td>    0.639</td> <td>   -7.018</td> <td> 0.000</td> <td>   -5.740</td> <td>   -3.234</td>\n",
       "</tr>\n",
       "<tr>\n",
       "  <th>Family_Cat_Solo</th>   <td>    0.9603</td> <td>    0.219</td> <td>    4.387</td> <td> 0.000</td> <td>    0.531</td> <td>    1.389</td>\n",
       "</tr>\n",
       "</table>"
      ],
      "text/plain": [
       "<class 'statsmodels.iolib.summary.Summary'>\n",
       "\"\"\"\n",
       "                           Logit Regression Results                           \n",
       "==============================================================================\n",
       "Dep. Variable:               Survived   No. Observations:                  891\n",
       "Model:                          Logit   Df Residuals:                      884\n",
       "Method:                           MLE   Df Model:                            6\n",
       "Date:                Tue, 05 Dec 2023   Pseudo R-squ.:                  0.3474\n",
       "Time:                        12:18:29   Log-Likelihood:                -387.18\n",
       "converged:                       True   LL-Null:                       -593.33\n",
       "Covariance Type:            nonrobust   LLR p-value:                 6.329e-86\n",
       "=====================================================================================\n",
       "                        coef    std err          z      P>|z|      [0.025      0.975]\n",
       "-------------------------------------------------------------------------------------\n",
       "Fare                  0.0109      0.003      4.200      0.000       0.006       0.016\n",
       "Family                0.4258      0.098      4.363      0.000       0.235       0.617\n",
       "Cabin_Cat_Missing    -0.9245      0.232     -3.977      0.000      -1.380      -0.469\n",
       "Titles_Mr            -2.5722      0.203    -12.698      0.000      -2.969      -2.175\n",
       "Titles_Mrs            0.8667      0.293      2.958      0.003       0.292       1.441\n",
       "Family_Cat_Large     -4.4873      0.639     -7.018      0.000      -5.740      -3.234\n",
       "Family_Cat_Solo       0.9603      0.219      4.387      0.000       0.531       1.389\n",
       "=====================================================================================\n",
       "\"\"\""
      ]
     },
     "execution_count": 106,
     "metadata": {},
     "output_type": "execute_result"
    }
   ],
   "source": [
    "# Model of imp feats\n",
    "newfeats = subset.loc[:, feats]\n",
    "\n",
    "model = sma.Logit(y, newfeats).fit()\n",
    "\n",
    "model.summary()"
   ]
  },
  {
   "cell_type": "markdown",
   "id": "cccbf493",
   "metadata": {},
   "source": [
    "### Predict the Output using Sigmoid"
   ]
  },
  {
   "cell_type": "code",
   "execution_count": 113,
   "id": "8a967638",
   "metadata": {},
   "outputs": [
    {
     "data": {
      "text/plain": [
       "Fare                 0.010875\n",
       "Family               0.425778\n",
       "Cabin_Cat_Missing   -0.924455\n",
       "Titles_Mr           -2.572236\n",
       "Titles_Mrs           0.866743\n",
       "Family_Cat_Large    -4.487282\n",
       "Family_Cat_Solo      0.960324\n",
       "dtype: float64"
      ]
     },
     "execution_count": 113,
     "metadata": {},
     "output_type": "execute_result"
    }
   ],
   "source": [
    "model.params"
   ]
  },
  {
   "cell_type": "code",
   "execution_count": 111,
   "id": "86a7231a",
   "metadata": {},
   "outputs": [
    {
     "data": {
      "text/html": [
       "<div>\n",
       "<style scoped>\n",
       "    .dataframe tbody tr th:only-of-type {\n",
       "        vertical-align: middle;\n",
       "    }\n",
       "\n",
       "    .dataframe tbody tr th {\n",
       "        vertical-align: top;\n",
       "    }\n",
       "\n",
       "    .dataframe thead th {\n",
       "        text-align: right;\n",
       "    }\n",
       "</style>\n",
       "<table border=\"1\" class=\"dataframe\">\n",
       "  <thead>\n",
       "    <tr style=\"text-align: right;\">\n",
       "      <th></th>\n",
       "      <th>Fare</th>\n",
       "      <th>Family</th>\n",
       "      <th>Cabin_Cat_Missing</th>\n",
       "      <th>Titles_Mr</th>\n",
       "      <th>Titles_Mrs</th>\n",
       "      <th>Family_Cat_Large</th>\n",
       "      <th>Family_Cat_Solo</th>\n",
       "    </tr>\n",
       "  </thead>\n",
       "  <tbody>\n",
       "    <tr>\n",
       "      <th>891</th>\n",
       "      <td>7.8292</td>\n",
       "      <td>1</td>\n",
       "      <td>1</td>\n",
       "      <td>1</td>\n",
       "      <td>0</td>\n",
       "      <td>0</td>\n",
       "      <td>1</td>\n",
       "    </tr>\n",
       "  </tbody>\n",
       "</table>\n",
       "</div>"
      ],
      "text/plain": [
       "       Fare  Family  Cabin_Cat_Missing  Titles_Mr  Titles_Mrs  \\\n",
       "891  7.8292       1                  1          1           0   \n",
       "\n",
       "     Family_Cat_Large  Family_Cat_Solo  \n",
       "891                 0                1  "
      ]
     },
     "execution_count": 111,
     "metadata": {},
     "output_type": "execute_result"
    }
   ],
   "source": [
    "newtest.loc[:, feats].head(1)"
   ]
  },
  {
   "cell_type": "markdown",
   "id": "1ead292e",
   "metadata": {},
   "source": [
    "### Equation for Prediction\n",
    "\n",
    "* log(odds) = beta1* fare + beta2 * family+beta3*cabin_cat_missing+....."
   ]
  },
  {
   "cell_type": "code",
   "execution_count": 115,
   "id": "2624539c",
   "metadata": {},
   "outputs": [],
   "source": [
    "logit = model.params[0]*newtest[\"Fare\"]+model.params[1]*\\\n",
    "newtest[\"Family\"]+model.params[2]*newtest[\"Cabin_Cat_Missing\"]+\\\n",
    "model.params[3]*newtest[\"Titles_Mr\"]+\\\n",
    "model.params[4]*newtest[\"Titles_Mrs\"]+\\\n",
    "model.params[5]*newtest[\"Family_Cat_Large\"]+\\\n",
    "model.params[6]*newtest[\"Family_Cat_Solo\"]"
   ]
  },
  {
   "cell_type": "code",
   "execution_count": 124,
   "id": "5d246c52",
   "metadata": {},
   "outputs": [
    {
     "name": "stdout",
     "output_type": "stream",
     "text": [
      "Prob using Sigmoid:              0\n",
      "891  0.116557\n",
      "Direct Function 891    0.116557\n",
      "dtype: float64\n"
     ]
    }
   ],
   "source": [
    "prob = 1/(1+np.exp(-logit)) # 0.116557\n",
    "print(\"Prob using Sigmoid: \", pd.DataFrame(prob).head(1))\n",
    "direct = model.predict(newtest.loc[:, feats].head(1))\n",
    "print(\"Direct Function\", direct)"
   ]
  },
  {
   "cell_type": "markdown",
   "id": "d249918c",
   "metadata": {},
   "source": [
    "#### Interpretation of Coefficients"
   ]
  },
  {
   "cell_type": "code",
   "execution_count": 125,
   "id": "461b67ac",
   "metadata": {
    "scrolled": true
   },
   "outputs": [
    {
     "data": {
      "text/html": [
       "<table class=\"simpletable\">\n",
       "<caption>Logit Regression Results</caption>\n",
       "<tr>\n",
       "  <th>Dep. Variable:</th>       <td>Survived</td>     <th>  No. Observations:  </th>  <td>   891</td>  \n",
       "</tr>\n",
       "<tr>\n",
       "  <th>Model:</th>                 <td>Logit</td>      <th>  Df Residuals:      </th>  <td>   884</td>  \n",
       "</tr>\n",
       "<tr>\n",
       "  <th>Method:</th>                 <td>MLE</td>       <th>  Df Model:          </th>  <td>     6</td>  \n",
       "</tr>\n",
       "<tr>\n",
       "  <th>Date:</th>            <td>Tue, 05 Dec 2023</td> <th>  Pseudo R-squ.:     </th>  <td>0.3474</td>  \n",
       "</tr>\n",
       "<tr>\n",
       "  <th>Time:</th>                <td>12:58:05</td>     <th>  Log-Likelihood:    </th> <td> -387.18</td> \n",
       "</tr>\n",
       "<tr>\n",
       "  <th>converged:</th>             <td>True</td>       <th>  LL-Null:           </th> <td> -593.33</td> \n",
       "</tr>\n",
       "<tr>\n",
       "  <th>Covariance Type:</th>     <td>nonrobust</td>    <th>  LLR p-value:       </th> <td>6.329e-86</td>\n",
       "</tr>\n",
       "</table>\n",
       "<table class=\"simpletable\">\n",
       "<tr>\n",
       "          <td></td>             <th>coef</th>     <th>std err</th>      <th>z</th>      <th>P>|z|</th>  <th>[0.025</th>    <th>0.975]</th>  \n",
       "</tr>\n",
       "<tr>\n",
       "  <th>Fare</th>              <td>    0.0109</td> <td>    0.003</td> <td>    4.200</td> <td> 0.000</td> <td>    0.006</td> <td>    0.016</td>\n",
       "</tr>\n",
       "<tr>\n",
       "  <th>Family</th>            <td>    0.4258</td> <td>    0.098</td> <td>    4.363</td> <td> 0.000</td> <td>    0.235</td> <td>    0.617</td>\n",
       "</tr>\n",
       "<tr>\n",
       "  <th>Cabin_Cat_Missing</th> <td>   -0.9245</td> <td>    0.232</td> <td>   -3.977</td> <td> 0.000</td> <td>   -1.380</td> <td>   -0.469</td>\n",
       "</tr>\n",
       "<tr>\n",
       "  <th>Titles_Mr</th>         <td>   -2.5722</td> <td>    0.203</td> <td>  -12.698</td> <td> 0.000</td> <td>   -2.969</td> <td>   -2.175</td>\n",
       "</tr>\n",
       "<tr>\n",
       "  <th>Titles_Mrs</th>        <td>    0.8667</td> <td>    0.293</td> <td>    2.958</td> <td> 0.003</td> <td>    0.292</td> <td>    1.441</td>\n",
       "</tr>\n",
       "<tr>\n",
       "  <th>Family_Cat_Large</th>  <td>   -4.4873</td> <td>    0.639</td> <td>   -7.018</td> <td> 0.000</td> <td>   -5.740</td> <td>   -3.234</td>\n",
       "</tr>\n",
       "<tr>\n",
       "  <th>Family_Cat_Solo</th>   <td>    0.9603</td> <td>    0.219</td> <td>    4.387</td> <td> 0.000</td> <td>    0.531</td> <td>    1.389</td>\n",
       "</tr>\n",
       "</table>"
      ],
      "text/plain": [
       "<class 'statsmodels.iolib.summary.Summary'>\n",
       "\"\"\"\n",
       "                           Logit Regression Results                           \n",
       "==============================================================================\n",
       "Dep. Variable:               Survived   No. Observations:                  891\n",
       "Model:                          Logit   Df Residuals:                      884\n",
       "Method:                           MLE   Df Model:                            6\n",
       "Date:                Tue, 05 Dec 2023   Pseudo R-squ.:                  0.3474\n",
       "Time:                        12:58:05   Log-Likelihood:                -387.18\n",
       "converged:                       True   LL-Null:                       -593.33\n",
       "Covariance Type:            nonrobust   LLR p-value:                 6.329e-86\n",
       "=====================================================================================\n",
       "                        coef    std err          z      P>|z|      [0.025      0.975]\n",
       "-------------------------------------------------------------------------------------\n",
       "Fare                  0.0109      0.003      4.200      0.000       0.006       0.016\n",
       "Family                0.4258      0.098      4.363      0.000       0.235       0.617\n",
       "Cabin_Cat_Missing    -0.9245      0.232     -3.977      0.000      -1.380      -0.469\n",
       "Titles_Mr            -2.5722      0.203    -12.698      0.000      -2.969      -2.175\n",
       "Titles_Mrs            0.8667      0.293      2.958      0.003       0.292       1.441\n",
       "Family_Cat_Large     -4.4873      0.639     -7.018      0.000      -5.740      -3.234\n",
       "Family_Cat_Solo       0.9603      0.219      4.387      0.000       0.531       1.389\n",
       "=====================================================================================\n",
       "\"\"\""
      ]
     },
     "execution_count": 125,
     "metadata": {},
     "output_type": "execute_result"
    }
   ],
   "source": [
    "model.summary()"
   ]
  },
  {
   "cell_type": "code",
   "execution_count": 138,
   "id": "e69500c7",
   "metadata": {},
   "outputs": [
    {
     "data": {
      "text/plain": [
       "0.011250980483955841"
      ]
     },
     "execution_count": 138,
     "metadata": {},
     "output_type": "execute_result"
    }
   ],
   "source": [
    "np.exp(-4.4873) # Increase of Odds\n",
    "\n",
    "# By an increase of 1 family member, the odds of their survival\n",
    "# decrease of 1.1%.\n",
    "\n",
    "# This means that the increase of family member is negatively\n",
    "# correlated with the Survival of Passengers...\n"
   ]
  },
  {
   "cell_type": "code",
   "execution_count": 126,
   "id": "8cff458d",
   "metadata": {},
   "outputs": [
    {
     "data": {
      "text/plain": [
       "GradientBoostingClassifier()"
      ]
     },
     "execution_count": 126,
     "metadata": {},
     "output_type": "execute_result"
    }
   ],
   "source": [
    "from sklearn.ensemble import GradientBoostingClassifier\n",
    "\n",
    "gbm = GradientBoostingClassifier()\n",
    "\n",
    "gbm.fit(newX, y)"
   ]
  },
  {
   "cell_type": "code",
   "execution_count": 130,
   "id": "5f05232d",
   "metadata": {},
   "outputs": [
    {
     "data": {
      "text/plain": [
       "<AxesSubplot:>"
      ]
     },
     "execution_count": 130,
     "metadata": {},
     "output_type": "execute_result"
    },
    {
     "data": {
      "image/png": "[encoded data removed]",
      "text/plain": [
       "<Figure size 640x480 with 1 Axes>"
      ]
     },
     "metadata": {},
     "output_type": "display_data"
    }
   ],
   "source": [
    "pd.DataFrame(gbm.feature_importances_, columns =[\"FE\"], \n",
    "             index = newX.columns).sort_values(by  =\"FE\", ascending = True).plot(kind = \"barh\")"
   ]
  },
  {
   "cell_type": "code",
   "execution_count": 132,
   "id": "1713bf22",
   "metadata": {},
   "outputs": [
    {
     "data": {
      "text/plain": [
       "Fare                 0.010875\n",
       "Family               0.425778\n",
       "Cabin_Cat_Missing   -0.924455\n",
       "Titles_Mr           -2.572236\n",
       "Titles_Mrs           0.866743\n",
       "Family_Cat_Large    -4.487282\n",
       "Family_Cat_Solo      0.960324\n",
       "dtype: float64"
      ]
     },
     "execution_count": 132,
     "metadata": {},
     "output_type": "execute_result"
    }
   ],
   "source": [
    "model.params"
   ]
  },
  {
   "cell_type": "markdown",
   "id": "95e9b060",
   "metadata": {},
   "source": [
    "### Pseudo R2\n",
    "\n",
    "* **McFadden R2** - Here, the R2 is not similar to the Linear Regression. There in we interpret the R2 as the ratio of variance in Y explained by X.\n",
    "\n",
    "* Because the variance in Y is not explained by X in Logistic Regression however, R2 exists and therefore it is called Pseudo R2.\n",
    "\n",
    "* Therefore, McFadden R2 is calculated by taking Log of (LL_full/LL_null). This is 1 - (LLF/LLN)\n",
    "\n",
    "* Note: The value of McFadden R2 will be in the range of 0 and 1.\n",
    "* Here, **0 represents that the model has no explanatory power where as 1 represents the model has a very high explanatory power.**\n",
    "\n",
    "* The range of McFadden is 0.2 to 0.4. Generally if the model has the R2 falling in this range then we can say the model is good."
   ]
  },
  {
   "cell_type": "code",
   "execution_count": 142,
   "id": "5d7e8023",
   "metadata": {},
   "outputs": [
    {
     "name": "stdout",
     "output_type": "stream",
     "text": [
      "McFadden R2:  0.3474488787775447\n"
     ]
    }
   ],
   "source": [
    "# McFadden\n",
    "mcfadden = 1 - (model.llf/model.llnull)\n",
    "print(\"McFadden R2: \", mcfadden)"
   ]
  },
  {
   "cell_type": "code",
   "execution_count": 150,
   "id": "6abc499d",
   "metadata": {},
   "outputs": [],
   "source": [
    "# Cox and Snell\n",
    "\n",
    "L0 = np.exp(model.llnull)\n",
    "L1 = np.exp(model.llf)\n",
    "\n",
    "cox_snell = 1 - (L0/L1) ** (2/newX.shape[0])"
   ]
  },
  {
   "cell_type": "code",
   "execution_count": 152,
   "id": "f0ae3355",
   "metadata": {},
   "outputs": [
    {
     "name": "stdout",
     "output_type": "stream",
     "text": [
      "McFadden:  0.3474488787775447\n",
      "Cox & Snell:  0.37044416823032167\n",
      "Nagelkerke:  0.5033176723723485\n"
     ]
    }
   ],
   "source": [
    "# Nagelkerke\n",
    "nagelkerke = cox_snell/(1 - L0**(2/newX.shape[0]))\n",
    "\n",
    "print(\"McFadden: \", mcfadden)\n",
    "print(\"Cox & Snell: \", cox_snell)\n",
    "print(\"Nagelkerke: \", nagelkerke)"
   ]
  },
  {
   "cell_type": "markdown",
   "id": "d697227c",
   "metadata": {},
   "source": [
    "### Which one to go with?\n",
    "\n",
    "* Mcfadden is generally a conservative estimate.\n",
    "* Cox and Snell is used to compare the nested models and thus it carries lot of reference there. Because the value of R2 is adjusted on the basis of n.\n",
    "\n",
    "* Nagelkerke is based on Cox and Snell but it is more better estimate because it can easily achieve values closer to 1 (not really) but it is the highest R2 amongst all. \n",
    "\n",
    "* Therefore, Nagelkerke is the goto R2 value for the model.\n"
   ]
  },
  {
   "cell_type": "markdown",
   "id": "544c4390",
   "metadata": {},
   "source": [
    "### AIC"
   ]
  },
  {
   "cell_type": "code",
   "execution_count": 153,
   "id": "e4482d4e",
   "metadata": {},
   "outputs": [
    {
     "data": {
      "text/plain": [
       "788.3531401238849"
      ]
     },
     "execution_count": 153,
     "metadata": {},
     "output_type": "execute_result"
    }
   ],
   "source": [
    "model.aic"
   ]
  },
  {
   "cell_type": "code",
   "execution_count": 157,
   "id": "8cb4f5d0",
   "metadata": {},
   "outputs": [
    {
     "data": {
      "text/plain": [
       "0.040433708686825026"
      ]
     },
     "execution_count": 157,
     "metadata": {},
     "output_type": "execute_result"
    }
   ],
   "source": [
    "# Wald test\n",
    "# model.bse represents standard error\n",
    "teststats = model.params[0]/model.bse[0]\n",
    "teststats\n",
    "\n",
    "# Pvalue\n",
    "# Since the LogReg Model follows Chi Square Distt...\n",
    "\n",
    "import scipy.stats as stats\n",
    "stats.chi2.sf(teststats, 1) # Wald Test has df of 1\n"
   ]
  },
  {
   "cell_type": "code",
   "execution_count": null,
   "id": "5c079fcf",
   "metadata": {},
   "outputs": [],
   "source": []
  }
 ],
 "metadata": {
  "kernelspec": {
   "display_name": "Python 3 (ipykernel)",
   "language": "python",
   "name": "python3"
  },
  "language_info": {
   "codemirror_mode": {
    "name": "ipython",
    "version": 3
   },
   "file_extension": ".py",
   "mimetype": "text/x-python",
   "name": "python",
   "nbconvert_exporter": "python",
   "pygments_lexer": "ipython3",
   "version": "3.11.3"
  }
 },
 "nbformat": 4,
 "nbformat_minor": 5
}
